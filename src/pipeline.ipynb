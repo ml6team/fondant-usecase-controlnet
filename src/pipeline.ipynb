{
 "cells": [
  {
   "cell_type": "markdown",
   "metadata": {},
   "source": [
    "# 🍫 Building a Controlnet pipeline for interior design with Fondant\n",
    "\n",
    "> ⚠️ Please note that this notebook **is not** compatible with **Google Colab**. To complete the tutorial, you must\n",
    "> initiate Docker containers. Starting Docker containers within Google Colab is not supported.\n",
    "\n",
    "This example demonstrates an end-to-end fondant pipeline to collect and process data for the fine-tuning of a [ControlNet](https://github.com/lllyasviel/ControlNet) model, focusing on images related to interior design.\n",
    "\n",
    "\n",
    "### Pipeline overview\n",
    "\n",
    "\n",
    "There are 5 components in total, these are:\n",
    "\n",
    "1. [**Prompt Generation**](components/generate_prompts): This component generates a set of seed prompts using a rule-based approach that combines various rooms and styles together, like “a photo of a {room_type} in the style of {style_type}”. As input, it takes in a list of room types (bedroom, kitchen, laundry room, ..), a list of room styles (contemporary, minimalist, art deco, ...) and a list of prefixes (comfortable, luxurious, simple). These lists can be easily adapted to other domains. The output of this component is a list of seed prompts.\n",
    "\n",
    "2. [**Image URL Retrieval**](https://github.com/ml6team/fondant/tree/main/components/prompt_based_laion_retrieval): This component retrieves images from the [LAION-5B](https://laion.ai/blog/laion-5b/) dataset based on the seed prompts. The retrieval itself is done based on CLIP embeddings similarity between the prompt sentences and the captions in the LAION dataset. This component doesn’t return the actual images yet, only the URLs. The next component in the pipeline will then download these images.\n",
    "\n",
    "3. [**Download Images**](https://github.com/ml6team/fondant/tree/main/components/download_images): This component downloads the actual images based on the URLs retrieved by the previous component. It takes in the URLs as input and returns the actual images, along with some metadata (like their height and width).\n",
    "\n",
    "4. [**Add Captions**](https://github.com/ml6team/fondant/tree/main/components/caption_images): This component captions all images using [BLIP](https://huggingface.co/docs/transformers/model_doc/blip). This model takes in the image and generates a caption that describes the content of the image. This component takes in a Hugging Face model ID, so it can use any [Hugging Face Hub model](https://huggingface.co/models).\n",
    "\n",
    "5. [**Add Segmentation Maps**](https://github.com/ml6team/fondant/tree/main/components/segment_images): This component segments the images using the [UPerNet](https://huggingface.co/docs/transformers/model_doc/upernet) model. Each segmentation map contains segments of 150 possible categories listed [here](https://huggingface.co/openmmlab/upernet-convnext-small/blob/main/config.json#L110)."
   ]
  },
  {
   "cell_type": "markdown",
   "metadata": {},
   "source": [
    "## Environment\n",
    "\n",
    "#### This section checks the prerequisites of your environment. Read any errors or warnings carefully."
   ]
  },
  {
   "cell_type": "markdown",
   "metadata": {},
   "source": [
    "**Ensure a Python between version 3.8 and 3.10 is available**"
   ]
  },
  {
   "cell_type": "code",
   "execution_count": 11,
   "metadata": {},
   "outputs": [],
   "source": [
    "import sys\n",
    "if sys.version_info < (3, 8, 0) or sys.version_info >= (3, 11, 0):\n",
    "    raise Exception(f\"A Python version between 3.8 and 3.10 is required. You are running {sys.version}\")"
   ]
  },
  {
   "cell_type": "markdown",
   "metadata": {},
   "source": [
    "**Check if docker compose is installed and the docker daemon is running**"
   ]
  },
  {
   "cell_type": "code",
   "execution_count": 38,
   "metadata": {},
   "outputs": [
    {
     "name": "stdout",
     "output_type": "stream",
     "text": [
      "ERROR: Cannot connect to the Docker daemon at unix:///home/robbe/.docker/desktop/docker.sock. Is the docker daemon running?\n",
      "errors pretty printing info\n"
     ]
    }
   ],
   "source": [
    "!docker compose version >/dev/null\n",
    "!docker info >/dev/null"
   ]
  },
  {
   "cell_type": "markdown",
   "metadata": {},
   "source": [
    "**Check if GPU is available**"
   ]
  },
  {
   "cell_type": "code",
   "execution_count": 22,
   "metadata": {},
   "outputs": [
    {
     "name": "stderr",
     "output_type": "stream",
     "text": [
      "[2023-11-07 15:39:10,834 | root | WARNING] We recommend to run this pipeline on a GPU, but none could be found, using CPU instead\n"
     ]
    }
   ],
   "source": [
    "import logging\n",
    "import subprocess\n",
    "\n",
    "try:\n",
    "    subprocess.check_output('nvidia-smi')\n",
    "    logging.info(\"Found GPU, using it!\")\n",
    "    number_of_accelerators = 1\n",
    "    accelerator_name = \"GPU\"\n",
    "except Exception:\n",
    "    logging.warning(\"We recommend to run this pipeline on a GPU, but none could be found, using CPU instead\")\n",
    "    number_of_accelerators = None\n",
    "    accelerator_name = None"
   ]
  },
  {
   "cell_type": "markdown",
   "metadata": {},
   "source": [
    "**Check if Fondant is installed**"
   ]
  },
  {
   "cell_type": "code",
   "execution_count": 25,
   "metadata": {},
   "outputs": [],
   "source": [
    "try:\n",
    "    import fondant\n",
    "except ImportError:\n",
    "    logging.warning(\"Please install Fondant from the `requirements.txt` at the root of this repository\")"
   ]
  },
  {
   "cell_type": "markdown",
   "metadata": {},
   "source": [
    "## Implement the pipeline\n",
    "\n",
    "### Creating a pipeline\n",
    "\n",
    "First of all, we need to initialize the pipeline, which includes specifying a name for your pipeline, providing a description, and setting a base_path. The base_path is used to store the pipeline artifacts and data generated by the components."
   ]
  },
  {
   "cell_type": "code",
   "execution_count": 60,
   "metadata": {},
   "outputs": [],
   "source": [
    "from pathlib import Path\n",
    "\n",
    "from fondant.pipeline import ComponentOp, Pipeline\n",
    "\n",
    "BASE_PATH = \"./data_dir\"\n",
    "Path(BASE_PATH).mkdir(parents=True, exist_ok=True)\n",
    "\n",
    "pipeline = Pipeline(\n",
    "    pipeline_name=\"controlnet-pipeline\",\n",
    "    pipeline_description=\"Pipeline that collects data to train ControlNet\",\n",
    "    base_path=BASE_PATH\n",
    ")"
   ]
  },
  {
   "cell_type": "markdown",
   "metadata": {},
   "source": [
    "### Adding a (custom) component"
   ]
  },
  {
   "cell_type": "markdown",
   "metadata": {},
   "source": [
    "The first component of our pipeline is the `generate_prompts` component, which generates seed prompts. This is a custom component implemented in this repository. You can find it at [./components/generate_prompts](./components/generate_prompts).\n",
    "\n",
    "To create an operation for a custom component, we create a `ComponentOp` and pass in the `component_dir` where the component is located.\n",
    "\n",
    "We can pass in arguments to change the behavior of the component. Here we are passing in `n_rows_to_load: 10`, which limits the amount of data that is generated for the purpose of this example.\n",
    "\n",
    "For an overview of the available arguments, you can check the [`fondant_component.yaml`](/edit/src/components/generate_prompts/fondant_component.yaml) specification."
   ]
  },
  {
   "cell_type": "code",
   "execution_count": 61,
   "metadata": {},
   "outputs": [],
   "source": [
    "generate_prompts_op = ComponentOp(\n",
    "    component_dir=\"components/generate_prompts\",\n",
    "    arguments={\n",
    "        \"n_rows_to_load\": 10\n",
    "    },\n",
    ")"
   ]
  },
  {
   "cell_type": "markdown",
   "metadata": {},
   "source": [
    "Once we've created an operation for our component, we can add it to our pipeline."
   ]
  },
  {
   "cell_type": "code",
   "execution_count": 62,
   "metadata": {},
   "outputs": [],
   "source": [
    "pipeline.add_op(generate_prompts_op)"
   ]
  },
  {
   "cell_type": "markdown",
   "metadata": {},
   "source": [
    "Now, our pipeline consists of a single component that generates prompts."
   ]
  },
  {
   "cell_type": "markdown",
   "metadata": {},
   "source": [
    "### Adding more (reusable) components\n",
    "\n",
    "We can now proceed to add more components. \n",
    "\n",
    "We will use components available on the [Fondant Hub](https://fondant.ai/en/latest/components/hub/), for which we can create operations using the `ComponentOp.from_registry(...)` method."
   ]
  },
  {
   "cell_type": "markdown",
   "metadata": {},
   "source": [
    "*NOTE: The `prompt_based_laion_retrieval` component uses a public CLIP service which can only handle a few requets at a time, if you run into [timeout issues](https://github.com/rom1504/clip-retrieval/issues/267), you might want to host your own clip service following this [guide](https://github.com/rom1504/clip-retrieval/blob/main/docs/laion5B_h14_back.md)*"
   ]
  },
  {
   "cell_type": "code",
   "execution_count": 63,
   "metadata": {},
   "outputs": [],
   "source": [
    "laion_retrieval_op = ComponentOp.from_registry(\n",
    "    name=\"prompt_based_laion_retrieval\",\n",
    "    arguments={\n",
    "        \"num_images\": 3,\n",
    "        \"aesthetic_score\": 9,\n",
    "        \"aesthetic_weight\": 0.5,\n",
    "        \"url\": \"https://knn.laion.ai/knn-service\"\n",
    "    },\n",
    ")\n",
    "\n",
    "download_images_op = ComponentOp.from_registry(\n",
    "    name=\"download_images\",\n",
    "    arguments={\n",
    "        \"timeout\": 1,\n",
    "        \"retries\": 0,\n",
    "        \"image_size\": 512,\n",
    "        \"resize_mode\": \"center_crop\",\n",
    "        \"resize_only_if_bigger\": False,\n",
    "        \"min_image_size\": 0,\n",
    "        \"max_aspect_ratio\": 2.5,\n",
    "    },\n",
    ")\n",
    "\n",
    "caption_images_op = ComponentOp.from_registry(\n",
    "    name=\"caption_images\",\n",
    "    arguments={\n",
    "        \"model_id\": \"Salesforce/blip-image-captioning-base\",\n",
    "        \"batch_size\": 8,\n",
    "        \"max_new_tokens\": 50,\n",
    "    },\n",
    "   number_of_accelerators=number_of_accelerators,\n",
    "   accelerator_name=accelerator_name,\n",
    ")\n",
    "\n",
    "segment_images_op = ComponentOp.from_registry(\n",
    "    name=\"segment_images\",\n",
    "    arguments={\n",
    "        \"model_id\": \"openmmlab/upernet-convnext-small\",\n",
    "        \"batch_size\": 8,\n",
    "    },\n",
    "    number_of_accelerators=number_of_accelerators,\n",
    "    accelerator_name=accelerator_name,\n",
    ")"
   ]
  },
  {
   "cell_type": "markdown",
   "metadata": {},
   "source": [
    "Now, we can use the components in our pipeline. We will chain them into a pipeline by defining dependencies between the different pipeline steps."
   ]
  },
  {
   "cell_type": "code",
   "execution_count": 64,
   "metadata": {},
   "outputs": [],
   "source": [
    "pipeline.add_op(laion_retrieval_op, dependencies=generate_prompts_op)\n",
    "pipeline.add_op(download_images_op, dependencies=laion_retrieval_op)\n",
    "pipeline.add_op(caption_images_op, dependencies=download_images_op)\n",
    "pipeline.add_op(segment_images_op, dependencies=caption_images_op)"
   ]
  },
  {
   "cell_type": "markdown",
   "metadata": {
    "jp-MarkdownHeadingCollapsed": true
   },
   "source": [
    "## Optional: writing the dataset to the Hugging Face Hub "
   ]
  },
  {
   "cell_type": "markdown",
   "metadata": {},
   "source": [
    "To write the final dataset to HF hub, we will use the `write_to_hf_hub` component from the [Fondant Hub](https://fondant.ai/en/latest/components/hub/).\n",
    "\n",
    "You'll need a Hugging Face Hub account for this. If you don't have one, you can either create one, or skip this step."
   ]
  },
  {
   "cell_type": "code",
   "execution_count": null,
   "metadata": {},
   "outputs": [],
   "source": [
    "USERNAME = \n",
    "HF_TOKEN = "
   ]
  },
  {
   "cell_type": "markdown",
   "metadata": {},
   "source": [
    "`write_to_hf_hub` is a special type of reusable Fondant component which is **generic**. This means that it can handle different data schemas, but we have to tell it which schema to use.\n",
    "\n",
    "We do this by overwriting its `fondant_component.yaml` file with the schema of the data we want it to write. To achieve this, we can create a `fondant_component.yaml` file in the directory `components/write_to_hf_hub` with the following content:"
   ]
  },
  {
   "cell_type": "code",
   "execution_count": null,
   "metadata": {
    "scrolled": true
   },
   "outputs": [],
   "source": [
    "%%writefile components/write_to_hub_controlnet/fondant_component.yaml\n",
    "name: Write to hub\n",
    "description: Component that writes a dataset to the hub\n",
    "image: fndnt/write_to_hf_hub:0.6.2  # We use a docker image from the Fondant Hub instead of implementing our own.\n",
    "\n",
    "consumes:  # We fill in our data schema here. The component will write this data to the Hugging Face Hub.\n",
    "  images:\n",
    "    fields:\n",
    "      data:\n",
    "        type: binary\n",
    "\n",
    "  captions:\n",
    "    fields:\n",
    "      text:\n",
    "        type: string\n",
    "\n",
    "  segmentations:\n",
    "    fields:\n",
    "      data:\n",
    "        type: binary\n",
    "\n",
    "args:  # We repeat the arguments from the original `fondant_component.yaml`\n",
    "  hf_token:\n",
    "    description: The hugging face token used to write to the hub\n",
    "    type: str\n",
    "  username:\n",
    "    description: The username under which to upload the dataset\n",
    "    type: str\n",
    "  dataset_name:\n",
    "    description: The name of the dataset to upload\n",
    "    type: str\n",
    "  image_column_names:\n",
    "    description: A list containing the image column names. Used to format to image to HF hub format\n",
    "    type: list\n",
    "    default: []\n",
    "  column_name_mapping:\n",
    "    description: Mapping of the consumed fondant column names to the written hub column names\n",
    "    type: dict\n",
    "    default: {}"
   ]
  },
  {
   "cell_type": "markdown",
   "metadata": {},
   "source": [
    "For which we then create an operation as if it was a custom component:"
   ]
  },
  {
   "cell_type": "code",
   "execution_count": null,
   "metadata": {
    "scrolled": true
   },
   "outputs": [],
   "source": [
    "write_to_hub_controlnet = ComponentOp(\n",
    "    component_dir=\"components/write_to_hub_controlnet\",\n",
    "    arguments={\n",
    "        \"username\": USERNAME ,\n",
    "        \"hf_token\": HF_TOKEN ,\n",
    "        \"dataset_name\": \"controlnet-interior-design\",\n",
    "        \"image_column_names\": [\"images_data\"],\n",
    "    },\n",
    ")"
   ]
  },
  {
   "cell_type": "markdown",
   "metadata": {},
   "source": [
    "And add it to the pipeline"
   ]
  },
  {
   "cell_type": "code",
   "execution_count": null,
   "metadata": {},
   "outputs": [],
   "source": [
    "pipeline.add_op(write_to_hub_controlnet, dependencies=segment_images_op)"
   ]
  },
  {
   "cell_type": "markdown",
   "metadata": {},
   "source": [
    "## Running the pipeline\n",
    "\n",
    "This pipeline will generate prompts, retreive matching images in the laion dataset, download then and generate corresponding captions and segmentations. If you added the optional `write_to_hf_hub` component, it will write the resulting dataset to the HF hub.\n",
    "\n",
    "Fondant provides multiple runners to run our pipeline:\n",
    "- A Docker runner for local execution\n",
    "- A Vertex AI runner for managed execution on Google Cloud\n",
    "- A Kubeflow Pipelines runner for execution anywhere\n",
    "\n",
    "Here we will use the `DockerRunner` for local execution, which utilizes docker-compose under the hood.\n",
    "\n",
    "The runner will first build the custom component and download the reusable components from the component hub. Afterwards, you will see the components execute one by one."
   ]
  },
  {
   "cell_type": "code",
   "execution_count": 65,
   "metadata": {
    "scrolled": true
   },
   "outputs": [
    {
     "name": "stderr",
     "output_type": "stream",
     "text": [
      "[2023-11-07 17:06:42,030 | fondant.compiler | INFO] Compiling controlnet-pipeline to docker-compose.yml\n",
      "[2023-11-07 17:06:42,031 | fondant.compiler | INFO] Base path found on local system, setting up ./data_dir as mount volume\n",
      "[2023-11-07 17:06:42,032 | fondant.pipeline | INFO] Sorting pipeline component graph topologically.\n",
      "[2023-11-07 17:06:42,036 | fondant.pipeline | INFO] All pipeline component specifications match.\n",
      "[2023-11-07 17:06:42,037 | fondant.compiler | INFO] Compiling service for generate_prompts\n",
      "[2023-11-07 17:06:42,037 | fondant.compiler | INFO] Found Dockerfile for generate_prompts, adding build step.\n",
      "[2023-11-07 17:06:42,037 | fondant.compiler | INFO] Compiling service for laion_retrieval\n",
      "[2023-11-07 17:06:42,038 | fondant.compiler | INFO] Compiling service for download_images\n",
      "[2023-11-07 17:06:42,038 | fondant.compiler | INFO] Compiling service for caption_images\n",
      "[2023-11-07 17:06:42,039 | fondant.compiler | INFO] Compiling service for segment_images\n",
      "[2023-11-07 17:06:42,048 | fondant.compiler | INFO] Successfully compiled to docker-compose.yml\n",
      " segment_images Pulling \n",
      " caption_images Pulling \n",
      " download_images Pulling \n",
      " laion_retrieval Pulling \n",
      " segment_images Pulled \n",
      " caption_images Pulled \n",
      " download_images Pulled \n",
      " laion_retrieval Pulled \n"
     ]
    },
    {
     "name": "stdout",
     "output_type": "stream",
     "text": [
      "#1 [generate_prompts internal] load build definition from Dockerfile\n",
      "#1 transferring dockerfile: 538B done\n",
      "#1 DONE 0.0s\n",
      "\n",
      "#2 [generate_prompts internal] load .dockerignore\n",
      "#2 transferring context: 2B done\n",
      "#2 DONE 0.0s\n",
      "\n",
      "#3 [generate_prompts internal] load metadata for docker.io/library/python:3.8-slim\n",
      "#3 DONE 0.0s\n",
      "\n",
      "#4 [generate_prompts 1/8] FROM docker.io/library/python:3.8-slim\n",
      "#4 DONE 0.0s\n",
      "\n",
      "#5 [generate_prompts internal] load build context\n",
      "#5 transferring context: 133B done\n",
      "#5 DONE 0.0s\n",
      "\n",
      "#6 [generate_prompts 2/8] RUN apt-get update &&     apt-get upgrade -y &&     apt-get install git -y\n",
      "#6 CACHED\n",
      "\n",
      "#7 [generate_prompts 7/8] COPY src/ .\n",
      "#7 CACHED\n",
      "\n",
      "#8 [generate_prompts 3/8] COPY requirements.txt /\n",
      "#8 CACHED\n",
      "\n",
      "#9 [generate_prompts 6/8] WORKDIR /component/src\n",
      "#9 CACHED\n",
      "\n",
      "#10 [generate_prompts 5/8] RUN pip3 install --no-cache-dir -r requirements.txt\n",
      "#10 CACHED\n",
      "\n",
      "#11 [generate_prompts 4/8] RUN python3 -m pip install --upgrade pip\n",
      "#11 CACHED\n",
      "\n",
      "#12 [generate_prompts 8/8] COPY fondant_component.yaml ../\n",
      "#12 CACHED\n",
      "\n",
      "#13 [generate_prompts] exporting to image\n",
      "#13 exporting layers done\n",
      "#13 writing image sha256:a84b0c56129fb567e42d5cb607fd248354d77507ffd98c5d9e520dd708b123ed done\n",
      "#13 naming to docker.io/library/controlnet-pipeline-generate_prompts done\n",
      "#13 DONE 0.0s\n"
     ]
    },
    {
     "name": "stderr",
     "output_type": "stream",
     "text": [
      " Container controlnet-pipeline-generate_prompts-1  Recreate\n",
      " Container controlnet-pipeline-generate_prompts-1  Recreated\n",
      " Container controlnet-pipeline-laion_retrieval-1  Recreate\n",
      " Container controlnet-pipeline-laion_retrieval-1  Recreated\n",
      " Container controlnet-pipeline-download_images-1  Recreate\n",
      " Container controlnet-pipeline-download_images-1  Recreated\n",
      " Container controlnet-pipeline-caption_images-1  Recreate\n",
      " Container controlnet-pipeline-caption_images-1  Recreated\n",
      " Container controlnet-pipeline-segment_images-1  Recreate\n",
      " Container controlnet-pipeline-segment_images-1  Recreated\n"
     ]
    },
    {
     "name": "stdout",
     "output_type": "stream",
     "text": [
      "Attaching to controlnet-pipeline-caption_images-1, controlnet-pipeline-download_images-1, controlnet-pipeline-generate_prompts-1, controlnet-pipeline-laion_retrieval-1, controlnet-pipeline-segment_images-1\n"
     ]
    },
    {
     "name": "stderr",
     "output_type": "stream",
     "text": [
      "controlnet-pipeline-generate_prompts-1  | [2023-11-07 16:06:46,255 | fondant.cli | INFO] Component `GeneratePromptsComponent` found in module main\n",
      "controlnet-pipeline-generate_prompts-1  | [2023-11-07 16:06:46,257 | fondant.executor | INFO] Dask default local mode will be used for further executions.Our current supported options are limited to 'local' and 'default'.\n",
      "controlnet-pipeline-generate_prompts-1  | [2023-11-07 16:06:46,258 | fondant.executor | INFO] No matching execution for component detected\n",
      "controlnet-pipeline-generate_prompts-1  | [2023-11-07 16:06:46,258 | root | INFO] Executing component\n",
      "controlnet-pipeline-generate_prompts-1  | [2023-11-07 16:06:46,295 | root | INFO] Creating write task for: /data_dir/controlnet-pipeline/controlnet-pipeline-20231107170642/generate_prompts/index\n",
      "controlnet-pipeline-generate_prompts-1  | [2023-11-07 16:06:46,308 | root | INFO] Creating write task for: /data_dir/controlnet-pipeline/controlnet-pipeline-20231107170642/generate_prompts/prompts\n",
      "controlnet-pipeline-generate_prompts-1  | [2023-11-07 16:06:46,308 | root | INFO] Writing data...\n",
      "controlnet-pipeline-generate_prompts-1  | [2023-11-07 16:06:46,415 | fondant.executor | INFO] Saving output manifest to /data_dir/controlnet-pipeline/controlnet-pipeline-20231107170642/generate_prompts/manifest.json\n",
      "controlnet-pipeline-generate_prompts-1  | [2023-11-07 16:06:46,415 | fondant.executor | INFO] Writing cache key to /data_dir/controlnet-pipeline/cache/fbe4fc7feda1fd741302e3d34da138bb.txt\n"
     ]
    },
    {
     "name": "stdout",
     "output_type": "stream",
     "text": [
      "[########################################] | 100% Completed | 100.92 ms\n",
      "controlnet-pipeline-generate_prompts-1 exited with code 0\n"
     ]
    },
    {
     "name": "stderr",
     "output_type": "stream",
     "text": [
      "controlnet-pipeline-laion_retrieval-1   | [2023-11-07 16:06:47,823 | fondant.cli | INFO] Component `LAIONRetrievalComponent` found in module main\n",
      "controlnet-pipeline-laion_retrieval-1   | [2023-11-07 16:06:47,826 | fondant.executor | INFO] Dask default local mode will be used for further executions.Our current supported options are limited to 'local' and 'default'.\n",
      "controlnet-pipeline-laion_retrieval-1   | [2023-11-07 16:06:47,838 | fondant.executor | INFO] Previous component `generate_prompts` is not cached. Invalidating cache for current and subsequent components\n",
      "controlnet-pipeline-laion_retrieval-1   | [2023-11-07 16:06:47,838 | fondant.executor | INFO] Caching disabled for the component\n",
      "controlnet-pipeline-laion_retrieval-1   | [2023-11-07 16:06:47,838 | root | INFO] Executing component\n",
      "controlnet-pipeline-laion_retrieval-1   | [2023-11-07 16:06:47,889 | fondant.data_io | INFO] Loading subset prompts with fields ['text']...\n",
      "controlnet-pipeline-laion_retrieval-1   | [2023-11-07 16:06:47,898 | fondant.data_io | INFO] The number of partitions of the input dataframe is 1. The available number of workers is 4.\n",
      "controlnet-pipeline-laion_retrieval-1   | [2023-11-07 16:06:47,899 | fondant.data_io | INFO] Repartitioning the data to 4 partitions before processing to maximize worker usage\n",
      "controlnet-pipeline-laion_retrieval-1   | [2023-11-07 16:06:47,899 | root | INFO] Columns of dataframe: ['prompts_text']\n",
      "controlnet-pipeline-laion_retrieval-1   | [2023-11-07 16:06:47,913 | root | INFO] Creating write task for: /data_dir/controlnet-pipeline/controlnet-pipeline-20231107170642/laion_retrieval/index\n",
      "controlnet-pipeline-laion_retrieval-1   | [2023-11-07 16:06:47,921 | root | INFO] Creating write task for: /data_dir/controlnet-pipeline/controlnet-pipeline-20231107170642/laion_retrieval/images\n",
      "controlnet-pipeline-laion_retrieval-1   | [2023-11-07 16:06:47,921 | root | INFO] Writing data...\n"
     ]
    },
    {
     "name": "stdout",
     "output_type": "stream",
     "text": [
      "[########################################] | 100% Completed | 3.72 sms\n"
     ]
    },
    {
     "name": "stderr",
     "output_type": "stream",
     "text": [
      "controlnet-pipeline-laion_retrieval-1   | [2023-11-07 16:06:51,652 | fondant.executor | INFO] Saving output manifest to /data_dir/controlnet-pipeline/controlnet-pipeline-20231107170642/laion_retrieval/manifest.json\n",
      "controlnet-pipeline-laion_retrieval-1   | [2023-11-07 16:06:51,653 | fondant.executor | INFO] Writing cache key to /data_dir/controlnet-pipeline/cache/ce77bd842b490cf02c66057ea7d0ff78.txt\n"
     ]
    },
    {
     "name": "stdout",
     "output_type": "stream",
     "text": [
      "controlnet-pipeline-laion_retrieval-1 exited with code 0\n"
     ]
    },
    {
     "name": "stderr",
     "output_type": "stream",
     "text": [
      "controlnet-pipeline-download_images-1   | [2023-11-07 16:06:54,303 | fondant.cli | INFO] Component `DownloadImagesComponent` found in module main\n",
      "controlnet-pipeline-download_images-1   | [2023-11-07 16:06:54,307 | fondant.executor | INFO] Dask default local mode will be used for further executions.Our current supported options are limited to 'local' and 'default'.\n",
      "controlnet-pipeline-download_images-1   | [2023-11-07 16:06:54,309 | fondant.executor | INFO] Previous component `laion_retrieval` is not cached. Invalidating cache for current and subsequent components\n",
      "controlnet-pipeline-download_images-1   | [2023-11-07 16:06:54,309 | fondant.executor | INFO] Caching disabled for the component\n",
      "controlnet-pipeline-download_images-1   | [2023-11-07 16:06:54,310 | root | INFO] Executing component\n",
      "controlnet-pipeline-download_images-1   | [2023-11-07 16:06:54,371 | fondant.data_io | INFO] Loading subset images with fields ['url']...\n",
      "controlnet-pipeline-download_images-1   | [2023-11-07 16:06:54,398 | root | INFO] Columns of dataframe: ['images_url']\n",
      "controlnet-pipeline-download_images-1   | [2023-11-07 16:06:54,416 | root | INFO] Creating write task for: /data_dir/controlnet-pipeline/controlnet-pipeline-20231107170642/download_images/index\n",
      "controlnet-pipeline-download_images-1   | [2023-11-07 16:06:54,426 | root | INFO] Creating write task for: /data_dir/controlnet-pipeline/controlnet-pipeline-20231107170642/download_images/images\n",
      "controlnet-pipeline-download_images-1   | [2023-11-07 16:06:54,426 | root | INFO] Writing data...\n",
      "controlnet-pipeline-download_images-1   | [2023-11-07 16:06:56,018 | main | INFO] Downloading 4 images...\n",
      "controlnet-pipeline-download_images-1   | [2023-11-07 16:06:56,391 | httpx | INFO] HTTP Request: GET https://previews.123rf.com/images/kuprin28/kuprin281510/kuprin28151000415/46284396-badezimmer-techno-stil-dekorative-beton-strukturierte-w%C3%A4nde-cremefarbenen-marmor-fliesenboden-waschbec.jpg \"HTTP/1.1 200 OK\"\n",
      "controlnet-pipeline-download_images-1   | [2023-11-07 16:06:56,604 | httpx | INFO] HTTP Request: GET https://thumbs.dreamstime.com/z/interior-design-classico-del-bagno-con-oro-e-mattonelle-beige-e-m-91853773.jpg \"HTTP/1.1 200 OK\"\n",
      "controlnet-pipeline-download_images-1   | [2023-11-07 16:06:57,099 | main | WARNING] Skipping https://i.pinimg.com/236x/0e/91/f1/0e91f11daa97c43978d5a99ec6a2ef02--shabby-chic-decorating-bathroom-ideas.jpg: ConnectTimeout('')\n",
      "controlnet-pipeline-download_images-1   | [2023-11-07 16:06:57,100 | main | WARNING] Skipping https://tse2.mm.bing.net/th?id=OIP.2gSYrwgPVI67QkEqKPRFsQHaHA&amp;pid=15.1&amp;P=0&amp;w=300&amp;h=300: ConnectTimeout('')\n",
      "controlnet-pipeline-download_images-1   | [2023-11-07 16:06:57,118 | main | INFO] Downloading 12 images...\n",
      "controlnet-pipeline-download_images-1   | [2023-11-07 16:06:57,548 | httpx | INFO] HTTP Request: GET http://t0.gstatic.com/images?q=tbn:ANd9GcRWzkLnNLYhgHIFwDw8OJ-xc07N4z04VOHgg9NoGxlX0fChlpDXIw \"HTTP/1.1 200 OK\"\n",
      "controlnet-pipeline-download_images-1   | [2023-11-07 16:06:57,548 | httpx | INFO] HTTP Request: GET http://t0.gstatic.com/images?q=tbn:ANd9GcRWzkLnNLYhgHIFwDw8OJ-xc07N4z04VOHgg9NoGxlX0fChlpDXIw \"HTTP/1.1 200 OK\"\n",
      "controlnet-pipeline-download_images-1   | [2023-11-07 16:06:57,549 | httpx | INFO] HTTP Request: GET http://t0.gstatic.com/images?q=tbn:ANd9GcR6euHKn0lRZtd09NIkYhef4TXIRfV6FwX5R4yC1R1hq0cM9eb9 \"HTTP/1.1 200 OK\"\n",
      "controlnet-pipeline-download_images-1   | [2023-11-07 16:06:57,551 | httpx | INFO] HTTP Request: GET http://t0.gstatic.com/images?q=tbn:ANd9GcRWzkLnNLYhgHIFwDw8OJ-xc07N4z04VOHgg9NoGxlX0fChlpDXIw \"HTTP/1.1 200 OK\"\n",
      "controlnet-pipeline-download_images-1   | [2023-11-07 16:06:57,552 | httpx | INFO] HTTP Request: GET http://t0.gstatic.com/images?q=tbn:ANd9GcRWzkLnNLYhgHIFwDw8OJ-xc07N4z04VOHgg9NoGxlX0fChlpDXIw \"HTTP/1.1 200 OK\"\n",
      "controlnet-pipeline-download_images-1   | [2023-11-07 16:06:57,657 | httpx | INFO] HTTP Request: GET https://thumbs.dreamstime.com/b/modern-bathroom-15384903.jpg \"HTTP/1.1 200 OK\"\n",
      "controlnet-pipeline-download_images-1   | [2023-11-07 16:06:57,693 | httpx | INFO] HTTP Request: GET http://tse4.mm.bing.net/th?id=OIP.y9qkk7srxx-crP3cGHLSXwHaFj \"HTTP/1.1 200 OK\"\n",
      "controlnet-pipeline-download_images-1   | [2023-11-07 16:06:57,729 | httpx | INFO] HTTP Request: GET https://thumbs.dreamstime.com/b/suite-moderne-de-salle-bains-dans-une-grise-55227572.jpg \"HTTP/1.1 200 OK\"\n",
      "controlnet-pipeline-download_images-1   | [2023-11-07 16:06:57,795 | httpx | INFO] HTTP Request: GET https://thumbs.dreamstime.com/b/banheiro-para-meninas-no-estilo-cl%C3%A1ssico-48271599.jpg \"HTTP/1.1 200 OK\"\n",
      "controlnet-pipeline-download_images-1   | [2023-11-07 16:06:57,993 | httpx | INFO] HTTP Request: GET https://3.bp.blogspot.com/-RGOQWZNyYjw/XCdmLoxKUpI/AAAAAAAACCk/ptvU8dzWEH44u900rN7d5CGgHSMhOsH0ACEwYBhgL/s400/modern-bathroom-interior-degign-color-combinations-tile-ideas-2019%2B%252824%2529.jpg \"HTTP/1.1 200 OK\"\n",
      "controlnet-pipeline-download_images-1   | [2023-11-07 16:06:58,337 | main | WARNING] Skipping https://i.pinimg.com/originals/31/1f/67/311f6748bd22344bd04c3eed36b32861.jpg: ConnectTimeout('')\n",
      "controlnet-pipeline-download_images-1   | [2023-11-07 16:06:58,341 | main | WARNING] Skipping https://cdn19.udim.smcloud.net/s/photos/t/5396/pomysl-na-lazienke-kobiece-wnetrze_394313.jpg: ConnectTimeout('')\n",
      "controlnet-pipeline-download_images-1   | [2023-11-07 16:06:58,362 | main | INFO] Downloading 2 images...\n",
      "controlnet-pipeline-download_images-1   | [2023-11-07 16:06:58,576 | httpx | INFO] HTTP Request: GET http://t0.gstatic.com/images?q=tbn:ANd9GcQCAaCpVPfGXPrwyvzb6LZDLa-w_Cs8SHaSfbrMXYZ39g8oMytBhQ \"HTTP/1.1 200 OK\"\n",
      "controlnet-pipeline-download_images-1   | [2023-11-07 16:06:58,861 | httpx | INFO] HTTP Request: GET http://comfortoria.ru/wp-content/uploads/2017/06/57-14-400x400.jpg \"HTTP/1.1 200 OK\"\n",
      "controlnet-pipeline-download_images-1   | [2023-11-07 16:06:58,932 | main | INFO] Downloading 8 images...\n",
      "controlnet-pipeline-download_images-1   | [2023-11-07 16:06:59,348 | httpx | INFO] HTTP Request: GET https://i1.wp.com/www.nehomemag.com/wp-content/uploads/2016/01/ct-spr13-sagedesign-08.jpg?w=495&h=664&ssl=1 \"HTTP/1.1 200 OK\"\n",
      "controlnet-pipeline-download_images-1   | [2023-11-07 16:06:59,415 | httpx | INFO] HTTP Request: GET https://thumbs.dreamstime.com/b/%D0%B2%D0%B0%D0%BD%D0%BD%D0%B0%D1%8F-%D0%BA%D0%BE%D0%BC%D0%BD%D0%B0%D1%82%D0%B0-%D1%8F-%D0%B5%D0%B2%D1%83%D1%88%D0%B5%D0%BA-%D0%B2-%D0%BA-%D0%B0%D1%81%D1%81%D0%B8%D1%87%D0%B5%D1%81%D0%BA%D0%BE%D0%BC-%D1%81%D1%82%D0%B8-%D0%B5-48271599.jpg \"HTTP/1.1 200 OK\"\n",
      "controlnet-pipeline-download_images-1   | [2023-11-07 16:06:59,459 | httpx | INFO] HTTP Request: GET https://thumbs.dreamstime.com/z/bagno-concreto-e-di-legno-interno-vasca-nera-124531590.jpg \"HTTP/1.1 200 OK\"\n",
      "controlnet-pipeline-download_images-1   | [2023-11-07 16:06:59,540 | httpx | INFO] HTTP Request: GET http://tse1.mm.bing.net/th?id=OIP.2gSYrwgPVI67QkEqKPRFsQHaHA \"HTTP/1.1 404 Not Found\"\n",
      "controlnet-pipeline-download_images-1   | [2023-11-07 16:06:59,556 | httpx | INFO] HTTP Request: GET https://mediacache.homeimprovementpages.com.au/creative/galleries/720001_725000/721325/557x418/358073.jpg \"HTTP/1.1 200 OK\"\n",
      "controlnet-pipeline-download_images-1   | [2023-11-07 16:06:59,556 | httpx | INFO] HTTP Request: GET https://mediacache.homeimprovementpages.com.au/creative/galleries/720001_725000/721325/557x418/358073.jpg \"HTTP/1.1 200 OK\"\n",
      "controlnet-pipeline-download_images-1   | [2023-11-07 16:06:59,558 | httpx | INFO] HTTP Request: GET https://mediacache.homeimprovementpages.com.au/creative/galleries/720001_725000/721325/557x418/358073.jpg \"HTTP/1.1 200 OK\"\n",
      "controlnet-pipeline-download_images-1   | [2023-11-07 16:07:00,504 | main | WARNING] Skipping https://mediacache.homeimprovementpages.com.au/creative/galleries/720001_725000/721325/557x418/358073.jpg: ReadTimeout('')\n",
      "controlnet-pipeline-download_images-1   | [2023-11-07 16:07:00,543 | main | WARNING] Skipping https://thumbs.dreamstime.com/z/bagno-concreto-e-di-legno-interno-vasca-nera-124531590.jpg: ReadTimeout('')\n",
      "controlnet-pipeline-download_images-1   | [2023-11-07 16:07:00,559 | main | WARNING] Skipping https://mediacache.homeimprovementpages.com.au/creative/galleries/720001_725000/721325/557x418/358073.jpg: ReadTimeout('')\n",
      "controlnet-pipeline-download_images-1   | [2023-11-07 16:07:00,559 | main | WARNING] Skipping https://mediacache.homeimprovementpages.com.au/creative/galleries/720001_725000/721325/557x418/358073.jpg: ReadTimeout('')\n",
      "controlnet-pipeline-download_images-1   | [2023-11-07 16:07:00,560 | main | WARNING] Skipping https://mediacache.homeimprovementpages.com.au/creative/galleries/720001_725000/721325/557x418/358073.jpg: ReadTimeout('')\n"
     ]
    },
    {
     "name": "stdout",
     "output_type": "stream",
     "text": [
      "[########################################] | 100% Completed | 6.22 ss\n"
     ]
    },
    {
     "name": "stderr",
     "output_type": "stream",
     "text": [
      "controlnet-pipeline-download_images-1   | [2023-11-07 16:07:01,659 | fondant.executor | INFO] Saving output manifest to /data_dir/controlnet-pipeline/controlnet-pipeline-20231107170642/download_images/manifest.json\n",
      "controlnet-pipeline-download_images-1   | [2023-11-07 16:07:01,659 | fondant.executor | INFO] Writing cache key to /data_dir/controlnet-pipeline/cache/0efa47036db4a669008df3cde7012899.txt\n"
     ]
    },
    {
     "name": "stdout",
     "output_type": "stream",
     "text": [
      "controlnet-pipeline-download_images-1 exited with code 0\n"
     ]
    },
    {
     "name": "stderr",
     "output_type": "stream",
     "text": [
      "controlnet-pipeline-caption_images-1    | [2023-11-07 16:07:05,611 | fondant.cli | INFO] Component `CaptionImagesComponent` found in module main\n",
      "controlnet-pipeline-caption_images-1    | [2023-11-07 16:07:05,614 | fondant.executor | INFO] Dask default local mode will be used for further executions.Our current supported options are limited to 'local' and 'default'.\n",
      "controlnet-pipeline-caption_images-1    | [2023-11-07 16:07:05,616 | fondant.executor | INFO] Previous component `download_images` is not cached. Invalidating cache for current and subsequent components\n",
      "controlnet-pipeline-caption_images-1    | [2023-11-07 16:07:05,616 | fondant.executor | INFO] Caching disabled for the component\n",
      "controlnet-pipeline-caption_images-1    | [2023-11-07 16:07:05,616 | root | INFO] Executing component\n",
      "controlnet-pipeline-caption_images-1    | [2023-11-07 16:07:05,616 | main | INFO] Device: cpu\n",
      "controlnet-pipeline-caption_images-1    | [2023-11-07 16:07:05,616 | main | INFO] Initialize model 'Salesforce/blip-image-captioning-base'\n",
      "(…)se/resolve/main/preprocessor_config.json: 100%|██████████| 287/287 [00:00<00:00, 1.03MB/s]\n",
      "(…)-base/resolve/main/tokenizer_config.json: 100%|██████████| 506/506 [00:00<00:00, 5.47MB/s]\n",
      "(…)e-captioning-base/resolve/main/vocab.txt: 100%|██████████| 232k/232k [00:00<00:00, 1.09MB/s]\n",
      "(…)tioning-base/resolve/main/tokenizer.json: 100%|██████████| 711k/711k [00:00<00:00, 1.47MB/s]\n",
      "(…)ase/resolve/main/special_tokens_map.json: 100%|██████████| 125/125 [00:00<00:00, 384kB/s]\n",
      "(…)captioning-base/resolve/main/config.json: 100%|██████████| 4.56k/4.56k [00:00<00:00, 15.5MB/s]\n",
      "Gracefully stopping... (press Ctrl+C again to force)\n",
      "Aborting on container exit...\n",
      "time=\"2023-11-07T17:10:54+01:00\" level=error msg=\"got 3 SIGTERM/SIGINTs, forcing shutdown\"\n",
      " Container controlnet-pipeline-caption_images-1  Killing\n",
      " Container controlnet-pipeline-segment_images-1  Stopping\n",
      " Container controlnet-pipeline-segment_images-1  Stopped\n",
      " Container controlnet-pipeline-caption_images-1  Stopping\n",
      " Container controlnet-pipeline-caption_images-1  Killed\n"
     ]
    },
    {
     "ename": "KeyboardInterrupt",
     "evalue": "",
     "output_type": "error",
     "traceback": [
      "\u001b[0;31m---------------------------------------------------------------------------\u001b[0m",
      "\u001b[0;31mKeyboardInterrupt\u001b[0m                         Traceback (most recent call last)",
      "Cell \u001b[0;32mIn[65], line 7\u001b[0m\n\u001b[1;32m      4\u001b[0m \u001b[38;5;28;01mfrom\u001b[39;00m \u001b[38;5;21;01mpathlib\u001b[39;00m \u001b[38;5;28;01mimport\u001b[39;00m Path\n\u001b[1;32m      6\u001b[0m DockerCompiler()\u001b[38;5;241m.\u001b[39mcompile(pipeline\u001b[38;5;241m=\u001b[39mpipeline, output_path\u001b[38;5;241m=\u001b[39m\u001b[38;5;124m\"\u001b[39m\u001b[38;5;124mdocker-compose.yml\u001b[39m\u001b[38;5;124m\"\u001b[39m)\n\u001b[0;32m----> 7\u001b[0m \u001b[43mDockerRunner\u001b[49m\u001b[43m(\u001b[49m\u001b[43m)\u001b[49m\u001b[38;5;241;43m.\u001b[39;49m\u001b[43mrun\u001b[49m\u001b[43m(\u001b[49m\u001b[38;5;124;43m\"\u001b[39;49m\u001b[38;5;124;43mdocker-compose.yml\u001b[39;49m\u001b[38;5;124;43m\"\u001b[39;49m\u001b[43m)\u001b[49m\n",
      "File \u001b[0;32m~/workspace/fondant-usecase-controlnet/venv/lib/python3.10/site-packages/fondant/runner.py:34\u001b[0m, in \u001b[0;36mDockerRunner.run\u001b[0;34m(self, input_spec, *args, **kwargs)\u001b[0m\n\u001b[1;32m     21\u001b[0m \u001b[38;5;250m\u001b[39m\u001b[38;5;124;03m\"\"\"Run a docker-compose spec.\"\"\"\u001b[39;00m\n\u001b[1;32m     22\u001b[0m cmd \u001b[38;5;241m=\u001b[39m [\n\u001b[1;32m     23\u001b[0m     \u001b[38;5;124m\"\u001b[39m\u001b[38;5;124mdocker\u001b[39m\u001b[38;5;124m\"\u001b[39m,\n\u001b[1;32m     24\u001b[0m     \u001b[38;5;124m\"\u001b[39m\u001b[38;5;124mcompose\u001b[39m\u001b[38;5;124m\"\u001b[39m,\n\u001b[0;32m   (...)\u001b[0m\n\u001b[1;32m     31\u001b[0m     \u001b[38;5;124m\"\u001b[39m\u001b[38;5;124m--remove-orphans\u001b[39m\u001b[38;5;124m\"\u001b[39m,\n\u001b[1;32m     32\u001b[0m ]\n\u001b[0;32m---> 34\u001b[0m \u001b[43msubprocess\u001b[49m\u001b[38;5;241;43m.\u001b[39;49m\u001b[43mcall\u001b[49m\u001b[43m(\u001b[49m\u001b[43mcmd\u001b[49m\u001b[43m)\u001b[49m\n",
      "File \u001b[0;32m/usr/lib/python3.10/subprocess.py:347\u001b[0m, in \u001b[0;36mcall\u001b[0;34m(timeout, *popenargs, **kwargs)\u001b[0m\n\u001b[1;32m    345\u001b[0m \u001b[38;5;28;01mwith\u001b[39;00m Popen(\u001b[38;5;241m*\u001b[39mpopenargs, \u001b[38;5;241m*\u001b[39m\u001b[38;5;241m*\u001b[39mkwargs) \u001b[38;5;28;01mas\u001b[39;00m p:\n\u001b[1;32m    346\u001b[0m     \u001b[38;5;28;01mtry\u001b[39;00m:\n\u001b[0;32m--> 347\u001b[0m         \u001b[38;5;28;01mreturn\u001b[39;00m \u001b[43mp\u001b[49m\u001b[38;5;241;43m.\u001b[39;49m\u001b[43mwait\u001b[49m\u001b[43m(\u001b[49m\u001b[43mtimeout\u001b[49m\u001b[38;5;241;43m=\u001b[39;49m\u001b[43mtimeout\u001b[49m\u001b[43m)\u001b[49m\n\u001b[1;32m    348\u001b[0m     \u001b[38;5;28;01mexcept\u001b[39;00m:  \u001b[38;5;66;03m# Including KeyboardInterrupt, wait handled that.\u001b[39;00m\n\u001b[1;32m    349\u001b[0m         p\u001b[38;5;241m.\u001b[39mkill()\n",
      "File \u001b[0;32m/usr/lib/python3.10/subprocess.py:1209\u001b[0m, in \u001b[0;36mPopen.wait\u001b[0;34m(self, timeout)\u001b[0m\n\u001b[1;32m   1207\u001b[0m     endtime \u001b[38;5;241m=\u001b[39m _time() \u001b[38;5;241m+\u001b[39m timeout\n\u001b[1;32m   1208\u001b[0m \u001b[38;5;28;01mtry\u001b[39;00m:\n\u001b[0;32m-> 1209\u001b[0m     \u001b[38;5;28;01mreturn\u001b[39;00m \u001b[38;5;28;43mself\u001b[39;49m\u001b[38;5;241;43m.\u001b[39;49m\u001b[43m_wait\u001b[49m\u001b[43m(\u001b[49m\u001b[43mtimeout\u001b[49m\u001b[38;5;241;43m=\u001b[39;49m\u001b[43mtimeout\u001b[49m\u001b[43m)\u001b[49m\n\u001b[1;32m   1210\u001b[0m \u001b[38;5;28;01mexcept\u001b[39;00m \u001b[38;5;167;01mKeyboardInterrupt\u001b[39;00m:\n\u001b[1;32m   1211\u001b[0m     \u001b[38;5;66;03m# https://bugs.python.org/issue25942\u001b[39;00m\n\u001b[1;32m   1212\u001b[0m     \u001b[38;5;66;03m# The first keyboard interrupt waits briefly for the child to\u001b[39;00m\n\u001b[1;32m   1213\u001b[0m     \u001b[38;5;66;03m# exit under the common assumption that it also received the ^C\u001b[39;00m\n\u001b[1;32m   1214\u001b[0m     \u001b[38;5;66;03m# generated SIGINT and will exit rapidly.\u001b[39;00m\n\u001b[1;32m   1215\u001b[0m     \u001b[38;5;28;01mif\u001b[39;00m timeout \u001b[38;5;129;01mis\u001b[39;00m \u001b[38;5;129;01mnot\u001b[39;00m \u001b[38;5;28;01mNone\u001b[39;00m:\n",
      "File \u001b[0;32m/usr/lib/python3.10/subprocess.py:1959\u001b[0m, in \u001b[0;36mPopen._wait\u001b[0;34m(self, timeout)\u001b[0m\n\u001b[1;32m   1957\u001b[0m \u001b[38;5;28;01mif\u001b[39;00m \u001b[38;5;28mself\u001b[39m\u001b[38;5;241m.\u001b[39mreturncode \u001b[38;5;129;01mis\u001b[39;00m \u001b[38;5;129;01mnot\u001b[39;00m \u001b[38;5;28;01mNone\u001b[39;00m:\n\u001b[1;32m   1958\u001b[0m     \u001b[38;5;28;01mbreak\u001b[39;00m  \u001b[38;5;66;03m# Another thread waited.\u001b[39;00m\n\u001b[0;32m-> 1959\u001b[0m (pid, sts) \u001b[38;5;241m=\u001b[39m \u001b[38;5;28;43mself\u001b[39;49m\u001b[38;5;241;43m.\u001b[39;49m\u001b[43m_try_wait\u001b[49m\u001b[43m(\u001b[49m\u001b[38;5;241;43m0\u001b[39;49m\u001b[43m)\u001b[49m\n\u001b[1;32m   1960\u001b[0m \u001b[38;5;66;03m# Check the pid and loop as waitpid has been known to\u001b[39;00m\n\u001b[1;32m   1961\u001b[0m \u001b[38;5;66;03m# return 0 even without WNOHANG in odd situations.\u001b[39;00m\n\u001b[1;32m   1962\u001b[0m \u001b[38;5;66;03m# http://bugs.python.org/issue14396.\u001b[39;00m\n\u001b[1;32m   1963\u001b[0m \u001b[38;5;28;01mif\u001b[39;00m pid \u001b[38;5;241m==\u001b[39m \u001b[38;5;28mself\u001b[39m\u001b[38;5;241m.\u001b[39mpid:\n",
      "File \u001b[0;32m/usr/lib/python3.10/subprocess.py:1917\u001b[0m, in \u001b[0;36mPopen._try_wait\u001b[0;34m(self, wait_flags)\u001b[0m\n\u001b[1;32m   1915\u001b[0m \u001b[38;5;250m\u001b[39m\u001b[38;5;124;03m\"\"\"All callers to this function MUST hold self._waitpid_lock.\"\"\"\u001b[39;00m\n\u001b[1;32m   1916\u001b[0m \u001b[38;5;28;01mtry\u001b[39;00m:\n\u001b[0;32m-> 1917\u001b[0m     (pid, sts) \u001b[38;5;241m=\u001b[39m \u001b[43mos\u001b[49m\u001b[38;5;241;43m.\u001b[39;49m\u001b[43mwaitpid\u001b[49m\u001b[43m(\u001b[49m\u001b[38;5;28;43mself\u001b[39;49m\u001b[38;5;241;43m.\u001b[39;49m\u001b[43mpid\u001b[49m\u001b[43m,\u001b[49m\u001b[43m \u001b[49m\u001b[43mwait_flags\u001b[49m\u001b[43m)\u001b[49m\n\u001b[1;32m   1918\u001b[0m \u001b[38;5;28;01mexcept\u001b[39;00m \u001b[38;5;167;01mChildProcessError\u001b[39;00m:\n\u001b[1;32m   1919\u001b[0m     \u001b[38;5;66;03m# This happens if SIGCLD is set to be ignored or waiting\u001b[39;00m\n\u001b[1;32m   1920\u001b[0m     \u001b[38;5;66;03m# for child processes has otherwise been disabled for our\u001b[39;00m\n\u001b[1;32m   1921\u001b[0m     \u001b[38;5;66;03m# process.  This child is dead, we can't get the status.\u001b[39;00m\n\u001b[1;32m   1922\u001b[0m     pid \u001b[38;5;241m=\u001b[39m \u001b[38;5;28mself\u001b[39m\u001b[38;5;241m.\u001b[39mpid\n",
      "\u001b[0;31mKeyboardInterrupt\u001b[0m: "
     ]
    },
    {
     "name": "stderr",
     "output_type": "stream",
     "text": [
      " Container controlnet-pipeline-caption_images-1  Stopped\n",
      " Container controlnet-pipeline-download_images-1  Stopping\n",
      " Container controlnet-pipeline-download_images-1  Stopped\n",
      " Container controlnet-pipeline-laion_retrieval-1  Stopping\n",
      " Container controlnet-pipeline-laion_retrieval-1  Stopped\n",
      " Container controlnet-pipeline-generate_prompts-1  Stopping\n",
      " Container controlnet-pipeline-generate_prompts-1  Stopped\n",
      "canceled\n"
     ]
    }
   ],
   "source": [
    "from fondant.compiler import DockerCompiler\n",
    "from fondant.runner import DockerRunner\n",
    "\n",
    "from pathlib import Path\n",
    "\n",
    "DockerCompiler().compile(pipeline=pipeline, output_path=\"docker-compose.yml\")\n",
    "DockerRunner().run(\"docker-compose.yml\")"
   ]
  },
  {
   "cell_type": "markdown",
   "metadata": {},
   "source": [
    "## Exploring the dataset "
   ]
  },
  {
   "cell_type": "markdown",
   "metadata": {},
   "source": [
    "You can also explore the dataset using the fondant explorer, this enables you to visualize your output dataset at each component step. Use "
   ]
  },
  {
   "cell_type": "code",
   "execution_count": 66,
   "metadata": {},
   "outputs": [
    {
     "name": "stderr",
     "output_type": "stream",
     "text": [
      "[2023-11-07 17:10:57,253 | root | INFO] Using local base path: ./data_dir\n",
      "[2023-11-07 17:10:57,254 | root | INFO] This directory will be mounted to /artifacts in the container.\n",
      "[2023-11-07 17:10:57,254 | root | WARNING] You have not provided a credentials file. If you wish to access data from a cloud provider, mount the credentials file with the --credentials flag.\n",
      "[2023-11-07 17:10:57,255 | root | INFO] Running image from registry: fndnt/data_explorer with tag: latest on port: 8501\n",
      "[2023-11-07 17:10:57,255 | root | INFO] Access the explorer at http://localhost:8501\n",
      "latest: Pulling from fndnt/data_explorer\n",
      "Digest: sha256:8f317b795798f24f37cb287355d6223c9cca94eb6f12e3535790d1faa79735ec\n",
      "Status: Image is up to date for fndnt/data_explorer:latest\n"
     ]
    },
    {
     "ename": "KeyboardInterrupt",
     "evalue": "",
     "output_type": "error",
     "traceback": [
      "\u001b[0;31m---------------------------------------------------------------------------\u001b[0m",
      "\u001b[0;31mKeyboardInterrupt\u001b[0m                         Traceback (most recent call last)",
      "Cell \u001b[0;32mIn[66], line 3\u001b[0m\n\u001b[1;32m      1\u001b[0m \u001b[38;5;28;01mfrom\u001b[39;00m \u001b[38;5;21;01mfondant\u001b[39;00m\u001b[38;5;21;01m.\u001b[39;00m\u001b[38;5;21;01mexplorer\u001b[39;00m \u001b[38;5;28;01mimport\u001b[39;00m run_explorer_app\n\u001b[0;32m----> 3\u001b[0m \u001b[43mrun_explorer_app\u001b[49m\u001b[43m(\u001b[49m\n\u001b[1;32m      4\u001b[0m \u001b[43m    \u001b[49m\u001b[43mbase_path\u001b[49m\u001b[38;5;241;43m=\u001b[39;49m\u001b[43mBASE_PATH\u001b[49m\u001b[43m,\u001b[49m\n\u001b[1;32m      5\u001b[0m \u001b[43m    \u001b[49m\u001b[43mcontainer\u001b[49m\u001b[38;5;241;43m=\u001b[39;49m\u001b[38;5;124;43m\"\u001b[39;49m\u001b[38;5;124;43mfndnt/data_explorer\u001b[39;49m\u001b[38;5;124;43m\"\u001b[39;49m\u001b[43m,\u001b[49m\n\u001b[1;32m      6\u001b[0m \u001b[43m    \u001b[49m\u001b[43mtag\u001b[49m\u001b[38;5;241;43m=\u001b[39;49m\u001b[38;5;124;43m\"\u001b[39;49m\u001b[38;5;124;43mlatest\u001b[39;49m\u001b[38;5;124;43m\"\u001b[39;49m\u001b[43m,\u001b[49m\n\u001b[1;32m      7\u001b[0m \u001b[43m    \u001b[49m\u001b[43mport\u001b[49m\u001b[38;5;241;43m=\u001b[39;49m\u001b[38;5;241;43m8501\u001b[39;49m\u001b[43m,\u001b[49m\n\u001b[1;32m      8\u001b[0m \u001b[43m)\u001b[49m\n",
      "File \u001b[0;32m~/workspace/fondant-usecase-controlnet/venv/lib/python3.10/site-packages/fondant/explorer.py:104\u001b[0m, in \u001b[0;36mrun_explorer_app\u001b[0;34m(base_path, port, container, tag, credentials)\u001b[0m\n\u001b[1;32m     99\u001b[0m logging\u001b[38;5;241m.\u001b[39minfo(\n\u001b[1;32m    100\u001b[0m     \u001b[38;5;124mf\u001b[39m\u001b[38;5;124m\"\u001b[39m\u001b[38;5;124mRunning image from registry: \u001b[39m\u001b[38;5;132;01m{\u001b[39;00mcontainer\u001b[38;5;132;01m}\u001b[39;00m\u001b[38;5;124m with tag: \u001b[39m\u001b[38;5;132;01m{\u001b[39;00mtag\u001b[38;5;132;01m}\u001b[39;00m\u001b[38;5;124m on port: \u001b[39m\u001b[38;5;132;01m{\u001b[39;00mport\u001b[38;5;132;01m}\u001b[39;00m\u001b[38;5;124m\"\u001b[39m,\n\u001b[1;32m    101\u001b[0m )\n\u001b[1;32m    102\u001b[0m logging\u001b[38;5;241m.\u001b[39minfo(\u001b[38;5;124mf\u001b[39m\u001b[38;5;124m\"\u001b[39m\u001b[38;5;124mAccess the explorer at http://localhost:\u001b[39m\u001b[38;5;132;01m{\u001b[39;00mport\u001b[38;5;132;01m}\u001b[39;00m\u001b[38;5;124m\"\u001b[39m)\n\u001b[0;32m--> 104\u001b[0m \u001b[43msubprocess\u001b[49m\u001b[38;5;241;43m.\u001b[39;49m\u001b[43mcall\u001b[49m\u001b[43m(\u001b[49m\u001b[43mcmd\u001b[49m\u001b[43m,\u001b[49m\u001b[43m \u001b[49m\u001b[43mstdout\u001b[49m\u001b[38;5;241;43m=\u001b[39;49m\u001b[43msubprocess\u001b[49m\u001b[38;5;241;43m.\u001b[39;49m\u001b[43mPIPE\u001b[49m\u001b[43m)\u001b[49m\n",
      "File \u001b[0;32m/usr/lib/python3.10/subprocess.py:347\u001b[0m, in \u001b[0;36mcall\u001b[0;34m(timeout, *popenargs, **kwargs)\u001b[0m\n\u001b[1;32m    345\u001b[0m \u001b[38;5;28;01mwith\u001b[39;00m Popen(\u001b[38;5;241m*\u001b[39mpopenargs, \u001b[38;5;241m*\u001b[39m\u001b[38;5;241m*\u001b[39mkwargs) \u001b[38;5;28;01mas\u001b[39;00m p:\n\u001b[1;32m    346\u001b[0m     \u001b[38;5;28;01mtry\u001b[39;00m:\n\u001b[0;32m--> 347\u001b[0m         \u001b[38;5;28;01mreturn\u001b[39;00m \u001b[43mp\u001b[49m\u001b[38;5;241;43m.\u001b[39;49m\u001b[43mwait\u001b[49m\u001b[43m(\u001b[49m\u001b[43mtimeout\u001b[49m\u001b[38;5;241;43m=\u001b[39;49m\u001b[43mtimeout\u001b[49m\u001b[43m)\u001b[49m\n\u001b[1;32m    348\u001b[0m     \u001b[38;5;28;01mexcept\u001b[39;00m:  \u001b[38;5;66;03m# Including KeyboardInterrupt, wait handled that.\u001b[39;00m\n\u001b[1;32m    349\u001b[0m         p\u001b[38;5;241m.\u001b[39mkill()\n",
      "File \u001b[0;32m/usr/lib/python3.10/subprocess.py:1209\u001b[0m, in \u001b[0;36mPopen.wait\u001b[0;34m(self, timeout)\u001b[0m\n\u001b[1;32m   1207\u001b[0m     endtime \u001b[38;5;241m=\u001b[39m _time() \u001b[38;5;241m+\u001b[39m timeout\n\u001b[1;32m   1208\u001b[0m \u001b[38;5;28;01mtry\u001b[39;00m:\n\u001b[0;32m-> 1209\u001b[0m     \u001b[38;5;28;01mreturn\u001b[39;00m \u001b[38;5;28;43mself\u001b[39;49m\u001b[38;5;241;43m.\u001b[39;49m\u001b[43m_wait\u001b[49m\u001b[43m(\u001b[49m\u001b[43mtimeout\u001b[49m\u001b[38;5;241;43m=\u001b[39;49m\u001b[43mtimeout\u001b[49m\u001b[43m)\u001b[49m\n\u001b[1;32m   1210\u001b[0m \u001b[38;5;28;01mexcept\u001b[39;00m \u001b[38;5;167;01mKeyboardInterrupt\u001b[39;00m:\n\u001b[1;32m   1211\u001b[0m     \u001b[38;5;66;03m# https://bugs.python.org/issue25942\u001b[39;00m\n\u001b[1;32m   1212\u001b[0m     \u001b[38;5;66;03m# The first keyboard interrupt waits briefly for the child to\u001b[39;00m\n\u001b[1;32m   1213\u001b[0m     \u001b[38;5;66;03m# exit under the common assumption that it also received the ^C\u001b[39;00m\n\u001b[1;32m   1214\u001b[0m     \u001b[38;5;66;03m# generated SIGINT and will exit rapidly.\u001b[39;00m\n\u001b[1;32m   1215\u001b[0m     \u001b[38;5;28;01mif\u001b[39;00m timeout \u001b[38;5;129;01mis\u001b[39;00m \u001b[38;5;129;01mnot\u001b[39;00m \u001b[38;5;28;01mNone\u001b[39;00m:\n",
      "File \u001b[0;32m/usr/lib/python3.10/subprocess.py:1959\u001b[0m, in \u001b[0;36mPopen._wait\u001b[0;34m(self, timeout)\u001b[0m\n\u001b[1;32m   1957\u001b[0m \u001b[38;5;28;01mif\u001b[39;00m \u001b[38;5;28mself\u001b[39m\u001b[38;5;241m.\u001b[39mreturncode \u001b[38;5;129;01mis\u001b[39;00m \u001b[38;5;129;01mnot\u001b[39;00m \u001b[38;5;28;01mNone\u001b[39;00m:\n\u001b[1;32m   1958\u001b[0m     \u001b[38;5;28;01mbreak\u001b[39;00m  \u001b[38;5;66;03m# Another thread waited.\u001b[39;00m\n\u001b[0;32m-> 1959\u001b[0m (pid, sts) \u001b[38;5;241m=\u001b[39m \u001b[38;5;28;43mself\u001b[39;49m\u001b[38;5;241;43m.\u001b[39;49m\u001b[43m_try_wait\u001b[49m\u001b[43m(\u001b[49m\u001b[38;5;241;43m0\u001b[39;49m\u001b[43m)\u001b[49m\n\u001b[1;32m   1960\u001b[0m \u001b[38;5;66;03m# Check the pid and loop as waitpid has been known to\u001b[39;00m\n\u001b[1;32m   1961\u001b[0m \u001b[38;5;66;03m# return 0 even without WNOHANG in odd situations.\u001b[39;00m\n\u001b[1;32m   1962\u001b[0m \u001b[38;5;66;03m# http://bugs.python.org/issue14396.\u001b[39;00m\n\u001b[1;32m   1963\u001b[0m \u001b[38;5;28;01mif\u001b[39;00m pid \u001b[38;5;241m==\u001b[39m \u001b[38;5;28mself\u001b[39m\u001b[38;5;241m.\u001b[39mpid:\n",
      "File \u001b[0;32m/usr/lib/python3.10/subprocess.py:1917\u001b[0m, in \u001b[0;36mPopen._try_wait\u001b[0;34m(self, wait_flags)\u001b[0m\n\u001b[1;32m   1915\u001b[0m \u001b[38;5;250m\u001b[39m\u001b[38;5;124;03m\"\"\"All callers to this function MUST hold self._waitpid_lock.\"\"\"\u001b[39;00m\n\u001b[1;32m   1916\u001b[0m \u001b[38;5;28;01mtry\u001b[39;00m:\n\u001b[0;32m-> 1917\u001b[0m     (pid, sts) \u001b[38;5;241m=\u001b[39m \u001b[43mos\u001b[49m\u001b[38;5;241;43m.\u001b[39;49m\u001b[43mwaitpid\u001b[49m\u001b[43m(\u001b[49m\u001b[38;5;28;43mself\u001b[39;49m\u001b[38;5;241;43m.\u001b[39;49m\u001b[43mpid\u001b[49m\u001b[43m,\u001b[49m\u001b[43m \u001b[49m\u001b[43mwait_flags\u001b[49m\u001b[43m)\u001b[49m\n\u001b[1;32m   1918\u001b[0m \u001b[38;5;28;01mexcept\u001b[39;00m \u001b[38;5;167;01mChildProcessError\u001b[39;00m:\n\u001b[1;32m   1919\u001b[0m     \u001b[38;5;66;03m# This happens if SIGCLD is set to be ignored or waiting\u001b[39;00m\n\u001b[1;32m   1920\u001b[0m     \u001b[38;5;66;03m# for child processes has otherwise been disabled for our\u001b[39;00m\n\u001b[1;32m   1921\u001b[0m     \u001b[38;5;66;03m# process.  This child is dead, we can't get the status.\u001b[39;00m\n\u001b[1;32m   1922\u001b[0m     pid \u001b[38;5;241m=\u001b[39m \u001b[38;5;28mself\u001b[39m\u001b[38;5;241m.\u001b[39mpid\n",
      "\u001b[0;31mKeyboardInterrupt\u001b[0m: "
     ]
    }
   ],
   "source": [
    "from fondant.explorer import run_explorer_app\n",
    "\n",
    "run_explorer_app(\n",
    "    base_path=BASE_PATH,\n",
    "    container=\"fndnt/data_explorer\",\n",
    "    tag=\"latest\",\n",
    "    port=8501,\n",
    ")"
   ]
  },
  {
   "cell_type": "markdown",
   "metadata": {},
   "source": [
    "To stop the Explorer and continue the notebook, press the stop button at the top of the notebook."
   ]
  },
  {
   "cell_type": "markdown",
   "metadata": {},
   "source": [
    "## Creating your own dataset\n",
    "\n",
    "To create your own dataset, you can update the `generate_prompts` component to generate prompts describing the images you want.\n",
    "\n",
    "Make the changes you want below and press enter, they will be written to the `./components/generate_prompts/src/main.py` file."
   ]
  },
  {
   "cell_type": "code",
   "execution_count": 67,
   "metadata": {},
   "outputs": [
    {
     "name": "stdout",
     "output_type": "stream",
     "text": [
      "Overwriting components/generate_prompts/src/main.py\n"
     ]
    }
   ],
   "source": [
    "%%writefile components/generate_prompts/src/main.py\n",
    "\"\"\"\n",
    "This component generates a set of initial prompts that will be used to retrieve images\n",
    "from the LAION-5B dataset.\n",
    "\"\"\"\n",
    "import itertools\n",
    "import logging\n",
    "import typing as t\n",
    "\n",
    "import dask.dataframe as dd\n",
    "import pandas as pd\n",
    "\n",
    "from fondant.component import DaskLoadComponent\n",
    "\n",
    "logger = logging.getLogger(__name__)\n",
    "\n",
    "interior_styles = [\n",
    "    \"art deco\",\n",
    "    \"bauhaus\",\n",
    "    \"bouclé\",\n",
    "    \"maximalist\",\n",
    "    \"brutalist\",\n",
    "    \"coastal\",\n",
    "    \"minimalist\",\n",
    "    \"rustic\",\n",
    "    \"hollywood regency\",\n",
    "    \"midcentury modern\",\n",
    "    \"modern organic\",\n",
    "    \"contemporary\",\n",
    "    \"modern\",\n",
    "    \"scandinavian\",\n",
    "    \"eclectic\",\n",
    "    \"bohemiam\",\n",
    "    \"industrial\",\n",
    "    \"traditional\",\n",
    "    \"transitional\",\n",
    "    \"farmhouse\",\n",
    "    \"country\",\n",
    "    \"asian\",\n",
    "    \"mediterranean\",\n",
    "    \"rustic\",\n",
    "    \"southwestern\",\n",
    "    \"coastal\",\n",
    "]\n",
    "\n",
    "interior_prefix = [\n",
    "    \"comfortable\",\n",
    "    \"luxurious\",\n",
    "    \"simple\",\n",
    "]\n",
    "\n",
    "rooms = [\n",
    "    \"Bathroom\",\n",
    "    \"Living room\",\n",
    "    \"Hotel room\",\n",
    "    \"Lobby\",\n",
    "    \"Entrance hall\",\n",
    "    \"Kitchen\",\n",
    "    \"Family room\",\n",
    "    \"Master bedroom\",\n",
    "    \"Bedroom\",\n",
    "    \"Kids bedroom\",\n",
    "    \"Laundry room\",\n",
    "    \"Guest room\",\n",
    "    \"Home office\",\n",
    "    \"Library room\",\n",
    "    \"Playroom\",\n",
    "    \"Home Theater room\",\n",
    "    \"Gym room\",\n",
    "    \"Basement room\",\n",
    "    \"Garage\",\n",
    "    \"Walk-in closet\",\n",
    "    \"Pantry\",\n",
    "    \"Gaming room\",\n",
    "    \"Attic\",\n",
    "    \"Sunroom\",\n",
    "    \"Storage room\",\n",
    "    \"Study room\",\n",
    "    \"Dining room\",\n",
    "    \"Loft\",\n",
    "    \"Studio room\",\n",
    "    \"Appartement\",\n",
    "]\n",
    "\n",
    "\n",
    "def make_interior_prompt(room: str, prefix: str, style: str) -> str:\n",
    "    \"\"\"Generate a prompt for the interior design model.\n",
    "\n",
    "    Args:\n",
    "        room: room name\n",
    "        prefix: prefix for the room\n",
    "        style: interior style\n",
    "\n",
    "    Returns:\n",
    "        prompt for the interior design model\n",
    "    \"\"\"\n",
    "    return f\"{prefix.lower()} {room.lower()}, {style.lower()} interior design\"\n",
    "\n",
    "\n",
    "class GeneratePromptsComponent(DaskLoadComponent):\n",
    "    def __init__(self, *args, n_rows_to_load: t.Optional[int]) -> None:\n",
    "        \"\"\"\n",
    "        Generate a set of initial prompts that will be used to retrieve images from the\n",
    "        LAION-5B dataset.\n",
    "\n",
    "        Args:\n",
    "            n_rows_to_load: Optional argument that defines the number of rows to load.\n",
    "                Useful for testing pipeline runs on a small scale\n",
    "        \"\"\"\n",
    "        self.n_rows_to_load = n_rows_to_load\n",
    "\n",
    "    def load(self) -> dd.DataFrame:\n",
    "        room_tuples = itertools.product(rooms, interior_prefix, interior_styles)\n",
    "        prompts = map(lambda x: make_interior_prompt(*x), room_tuples)\n",
    "\n",
    "        pandas_df = pd.DataFrame(prompts, columns=[\"prompts_text\"])\n",
    "\n",
    "        if self.n_rows_to_load:\n",
    "            pandas_df = pandas_df.head(self.n_rows_to_load)\n",
    "\n",
    "        df = dd.from_pandas(pandas_df, npartitions=1)\n",
    "\n",
    "        return df"
   ]
  },
  {
   "cell_type": "markdown",
   "metadata": {},
   "source": [
    "If you now recompile your pipeline, the new changes will be picked up and Fondant will automatically re-build the component with the changes included."
   ]
  },
  {
   "cell_type": "code",
   "execution_count": 69,
   "metadata": {},
   "outputs": [
    {
     "name": "stderr",
     "output_type": "stream",
     "text": [
      "[2023-11-07 17:12:50,809 | fondant.compiler | INFO] Compiling controlnet-pipeline to docker-compose.yml\n",
      "[2023-11-07 17:12:50,811 | fondant.compiler | INFO] Base path found on local system, setting up ./data_dir as mount volume\n",
      "[2023-11-07 17:12:50,813 | fondant.pipeline | INFO] Sorting pipeline component graph topologically.\n",
      "[2023-11-07 17:12:50,819 | fondant.pipeline | INFO] All pipeline component specifications match.\n",
      "[2023-11-07 17:12:50,820 | fondant.compiler | INFO] Compiling service for generate_prompts\n",
      "[2023-11-07 17:12:50,820 | fondant.compiler | INFO] Found Dockerfile for generate_prompts, adding build step.\n",
      "[2023-11-07 17:12:50,820 | fondant.compiler | INFO] Compiling service for laion_retrieval\n",
      "[2023-11-07 17:12:50,821 | fondant.compiler | INFO] Compiling service for download_images\n",
      "[2023-11-07 17:12:50,822 | fondant.compiler | INFO] Compiling service for caption_images\n",
      "[2023-11-07 17:12:50,822 | fondant.compiler | INFO] Compiling service for segment_images\n",
      "[2023-11-07 17:12:50,831 | fondant.compiler | INFO] Successfully compiled to docker-compose.yml\n",
      " download_images Pulling \n",
      " laion_retrieval Pulling \n",
      " caption_images Pulling \n",
      " segment_images Pulling \n",
      " download_images Pulled \n",
      " segment_images Pulled \n",
      " caption_images Pulled \n",
      " laion_retrieval Pulled \n"
     ]
    },
    {
     "name": "stdout",
     "output_type": "stream",
     "text": [
      "#1 [generate_prompts internal] load .dockerignore\n",
      "#1 transferring context: 2B done\n",
      "#1 DONE 0.0s\n",
      "\n",
      "#2 [generate_prompts internal] load build definition from Dockerfile\n",
      "#2 transferring dockerfile: 538B done\n",
      "#2 DONE 0.0s\n",
      "\n",
      "#3 [generate_prompts internal] load metadata for docker.io/library/python:3.8-slim\n",
      "#3 DONE 0.0s\n",
      "\n",
      "#4 [generate_prompts 1/8] FROM docker.io/library/python:3.8-slim\n",
      "#4 DONE 0.0s\n",
      "\n",
      "#5 [generate_prompts internal] load build context\n",
      "#5 transferring context: 133B done\n",
      "#5 DONE 0.0s\n",
      "\n",
      "#6 [generate_prompts 6/8] WORKDIR /component/src\n",
      "#6 CACHED\n",
      "\n",
      "#7 [generate_prompts 7/8] COPY src/ .\n",
      "#7 CACHED\n",
      "\n",
      "#8 [generate_prompts 5/8] RUN pip3 install --no-cache-dir -r requirements.txt\n",
      "#8 CACHED\n",
      "\n",
      "#9 [generate_prompts 3/8] COPY requirements.txt /\n",
      "#9 CACHED\n",
      "\n",
      "#10 [generate_prompts 2/8] RUN apt-get update &&     apt-get upgrade -y &&     apt-get install git -y\n",
      "#10 CACHED\n",
      "\n",
      "#11 [generate_prompts 4/8] RUN python3 -m pip install --upgrade pip\n",
      "#11 CACHED\n",
      "\n",
      "#12 [generate_prompts 8/8] COPY fondant_component.yaml ../\n",
      "#12 CACHED\n",
      "\n",
      "#13 [generate_prompts] exporting to image\n",
      "#13 exporting layers done\n",
      "#13 writing image sha256:a84b0c56129fb567e42d5cb607fd248354d77507ffd98c5d9e520dd708b123ed done\n",
      "#13 naming to docker.io/library/controlnet-pipeline-generate_prompts done\n",
      "#13 DONE 0.0s\n"
     ]
    },
    {
     "name": "stderr",
     "output_type": "stream",
     "text": [
      " Container controlnet-pipeline-generate_prompts-1  Recreate\n",
      " Container controlnet-pipeline-generate_prompts-1  Recreated\n",
      " Container controlnet-pipeline-laion_retrieval-1  Recreate\n",
      " Container controlnet-pipeline-laion_retrieval-1  Recreated\n",
      " Container controlnet-pipeline-download_images-1  Recreate\n",
      " Container controlnet-pipeline-download_images-1  Recreated\n",
      " Container controlnet-pipeline-caption_images-1  Recreate\n",
      " Container controlnet-pipeline-caption_images-1  Recreated\n",
      " Container controlnet-pipeline-segment_images-1  Recreate\n",
      " Container controlnet-pipeline-segment_images-1  Recreated\n"
     ]
    },
    {
     "name": "stdout",
     "output_type": "stream",
     "text": [
      "Attaching to controlnet-pipeline-caption_images-1, controlnet-pipeline-download_images-1, controlnet-pipeline-generate_prompts-1, controlnet-pipeline-laion_retrieval-1, controlnet-pipeline-segment_images-1\n"
     ]
    },
    {
     "name": "stderr",
     "output_type": "stream",
     "text": [
      "controlnet-pipeline-generate_prompts-1  | [2023-11-07 16:12:55,026 | fondant.cli | INFO] Component `GeneratePromptsComponent` found in module main\n",
      "controlnet-pipeline-generate_prompts-1  | [2023-11-07 16:12:55,029 | fondant.executor | INFO] Dask default local mode will be used for further executions.Our current supported options are limited to 'local' and 'default'.\n",
      "controlnet-pipeline-generate_prompts-1  | [2023-11-07 16:12:55,033 | fondant.executor | INFO] Matching execution detected for component. The last execution of the component originated from `controlnet-pipeline-20231107170642`.\n",
      "controlnet-pipeline-generate_prompts-1  | [2023-11-07 16:12:55,033 | fondant.executor | INFO] Skipping component execution\n",
      "controlnet-pipeline-generate_prompts-1  | [2023-11-07 16:12:55,066 | fondant.executor | INFO] Saving output manifest to /data_dir/controlnet-pipeline/controlnet-pipeline-20231107171250/generate_prompts/manifest.json\n",
      "controlnet-pipeline-generate_prompts-1  | [2023-11-07 16:12:55,066 | fondant.executor | INFO] Writing cache key to /data_dir/controlnet-pipeline/cache/fbe4fc7feda1fd741302e3d34da138bb.txt\n"
     ]
    },
    {
     "name": "stdout",
     "output_type": "stream",
     "text": [
      "controlnet-pipeline-generate_prompts-1 exited with code 0\n"
     ]
    },
    {
     "name": "stderr",
     "output_type": "stream",
     "text": [
      "controlnet-pipeline-laion_retrieval-1   | [2023-11-07 16:12:56,577 | fondant.cli | INFO] Component `LAIONRetrievalComponent` found in module main\n",
      "controlnet-pipeline-laion_retrieval-1   | [2023-11-07 16:12:56,581 | fondant.executor | INFO] Dask default local mode will be used for further executions.Our current supported options are limited to 'local' and 'default'.\n",
      "controlnet-pipeline-laion_retrieval-1   | [2023-11-07 16:12:56,583 | fondant.executor | INFO] Previous component `generate_prompts` run was cached. Cached pipeline id: controlnet-pipeline-20231107170642\n",
      "controlnet-pipeline-laion_retrieval-1   | [2023-11-07 16:12:56,584 | fondant.executor | INFO] Matching execution detected for component. The last execution of the component originated from `controlnet-pipeline-20231107170642`.\n",
      "controlnet-pipeline-laion_retrieval-1   | [2023-11-07 16:12:56,585 | fondant.executor | INFO] Skipping component execution\n",
      "controlnet-pipeline-laion_retrieval-1   | [2023-11-07 16:12:56,586 | fondant.executor | INFO] Saving output manifest to /data_dir/controlnet-pipeline/controlnet-pipeline-20231107171250/laion_retrieval/manifest.json\n",
      "controlnet-pipeline-laion_retrieval-1   | [2023-11-07 16:12:56,586 | fondant.executor | INFO] Writing cache key to /data_dir/controlnet-pipeline/cache/ce77bd842b490cf02c66057ea7d0ff78.txt\n"
     ]
    },
    {
     "name": "stdout",
     "output_type": "stream",
     "text": [
      "controlnet-pipeline-laion_retrieval-1 exited with code 0\n"
     ]
    },
    {
     "name": "stderr",
     "output_type": "stream",
     "text": [
      "controlnet-pipeline-download_images-1   | [2023-11-07 16:12:58,141 | fondant.cli | INFO] Component `DownloadImagesComponent` found in module main\n",
      "controlnet-pipeline-download_images-1   | [2023-11-07 16:12:58,144 | fondant.executor | INFO] Dask default local mode will be used for further executions.Our current supported options are limited to 'local' and 'default'.\n",
      "controlnet-pipeline-download_images-1   | [2023-11-07 16:12:58,146 | fondant.executor | INFO] Previous component `laion_retrieval` run was cached. Cached pipeline id: controlnet-pipeline-20231107170642\n",
      "controlnet-pipeline-download_images-1   | [2023-11-07 16:12:58,147 | fondant.executor | INFO] Matching execution detected for component. The last execution of the component originated from `controlnet-pipeline-20231107170642`.\n",
      "controlnet-pipeline-download_images-1   | [2023-11-07 16:12:58,148 | fondant.executor | INFO] Skipping component execution\n",
      "controlnet-pipeline-download_images-1   | [2023-11-07 16:12:58,149 | fondant.executor | INFO] Saving output manifest to /data_dir/controlnet-pipeline/controlnet-pipeline-20231107171250/download_images/manifest.json\n",
      "controlnet-pipeline-download_images-1   | [2023-11-07 16:12:58,149 | fondant.executor | INFO] Writing cache key to /data_dir/controlnet-pipeline/cache/0efa47036db4a669008df3cde7012899.txt\n"
     ]
    },
    {
     "name": "stdout",
     "output_type": "stream",
     "text": [
      "controlnet-pipeline-download_images-1 exited with code 0\n"
     ]
    },
    {
     "name": "stderr",
     "output_type": "stream",
     "text": [
      "controlnet-pipeline-caption_images-1    | [2023-11-07 16:13:00,501 | fondant.cli | INFO] Component `CaptionImagesComponent` found in module main\n",
      "controlnet-pipeline-caption_images-1    | [2023-11-07 16:13:00,504 | fondant.executor | INFO] Dask default local mode will be used for further executions.Our current supported options are limited to 'local' and 'default'.\n",
      "controlnet-pipeline-caption_images-1    | [2023-11-07 16:13:00,506 | fondant.executor | INFO] Previous component `download_images` run was cached. Cached pipeline id: controlnet-pipeline-20231107170642\n",
      "controlnet-pipeline-caption_images-1    | [2023-11-07 16:13:00,506 | fondant.executor | INFO] No matching execution for component detected\n",
      "controlnet-pipeline-caption_images-1    | [2023-11-07 16:13:00,506 | root | INFO] Executing component\n",
      "controlnet-pipeline-caption_images-1    | [2023-11-07 16:13:00,506 | main | INFO] Device: cpu\n",
      "controlnet-pipeline-caption_images-1    | [2023-11-07 16:13:00,506 | main | INFO] Initialize model 'Salesforce/blip-image-captioning-base'\n",
      "(…)se/resolve/main/preprocessor_config.json: 100%|██████████| 287/287 [00:00<00:00, 837kB/s]\n",
      "(…)-base/resolve/main/tokenizer_config.json: 100%|██████████| 506/506 [00:00<00:00, 4.19MB/s]\n",
      "(…)e-captioning-base/resolve/main/vocab.txt: 100%|██████████| 232k/232k [00:00<00:00, 1.31MB/s]\n",
      "(…)tioning-base/resolve/main/tokenizer.json: 100%|██████████| 711k/711k [00:00<00:00, 841kB/s]\n",
      "Gracefully stopping... (press Ctrl+C again to force)\n",
      "Aborting on container exit...\n",
      "time=\"2023-11-07T17:13:03+01:00\" level=error msg=\"got 3 SIGTERM/SIGINTs, forcing shutdown\"\n",
      " Container controlnet-pipeline-segment_images-1  Stopping\n",
      " Container controlnet-pipeline-segment_images-1  Stopped\n",
      " Container controlnet-pipeline-caption_images-1  Stopping\n"
     ]
    },
    {
     "ename": "KeyboardInterrupt",
     "evalue": "",
     "output_type": "error",
     "traceback": [
      "\u001b[0;31m---------------------------------------------------------------------------\u001b[0m",
      "\u001b[0;31mKeyboardInterrupt\u001b[0m                         Traceback (most recent call last)",
      "Cell \u001b[0;32mIn[69], line 2\u001b[0m\n\u001b[1;32m      1\u001b[0m DockerCompiler()\u001b[38;5;241m.\u001b[39mcompile(pipeline\u001b[38;5;241m=\u001b[39mpipeline, output_path\u001b[38;5;241m=\u001b[39m\u001b[38;5;124m\"\u001b[39m\u001b[38;5;124mdocker-compose.yml\u001b[39m\u001b[38;5;124m\"\u001b[39m)\n\u001b[0;32m----> 2\u001b[0m \u001b[43mDockerRunner\u001b[49m\u001b[43m(\u001b[49m\u001b[43m)\u001b[49m\u001b[38;5;241;43m.\u001b[39;49m\u001b[43mrun\u001b[49m\u001b[43m(\u001b[49m\u001b[38;5;124;43m\"\u001b[39;49m\u001b[38;5;124;43mdocker-compose.yml\u001b[39;49m\u001b[38;5;124;43m\"\u001b[39;49m\u001b[43m)\u001b[49m\n",
      "File \u001b[0;32m~/workspace/fondant-usecase-controlnet/venv/lib/python3.10/site-packages/fondant/runner.py:34\u001b[0m, in \u001b[0;36mDockerRunner.run\u001b[0;34m(self, input_spec, *args, **kwargs)\u001b[0m\n\u001b[1;32m     21\u001b[0m \u001b[38;5;250m\u001b[39m\u001b[38;5;124;03m\"\"\"Run a docker-compose spec.\"\"\"\u001b[39;00m\n\u001b[1;32m     22\u001b[0m cmd \u001b[38;5;241m=\u001b[39m [\n\u001b[1;32m     23\u001b[0m     \u001b[38;5;124m\"\u001b[39m\u001b[38;5;124mdocker\u001b[39m\u001b[38;5;124m\"\u001b[39m,\n\u001b[1;32m     24\u001b[0m     \u001b[38;5;124m\"\u001b[39m\u001b[38;5;124mcompose\u001b[39m\u001b[38;5;124m\"\u001b[39m,\n\u001b[0;32m   (...)\u001b[0m\n\u001b[1;32m     31\u001b[0m     \u001b[38;5;124m\"\u001b[39m\u001b[38;5;124m--remove-orphans\u001b[39m\u001b[38;5;124m\"\u001b[39m,\n\u001b[1;32m     32\u001b[0m ]\n\u001b[0;32m---> 34\u001b[0m \u001b[43msubprocess\u001b[49m\u001b[38;5;241;43m.\u001b[39;49m\u001b[43mcall\u001b[49m\u001b[43m(\u001b[49m\u001b[43mcmd\u001b[49m\u001b[43m)\u001b[49m\n",
      "File \u001b[0;32m/usr/lib/python3.10/subprocess.py:347\u001b[0m, in \u001b[0;36mcall\u001b[0;34m(timeout, *popenargs, **kwargs)\u001b[0m\n\u001b[1;32m    345\u001b[0m \u001b[38;5;28;01mwith\u001b[39;00m Popen(\u001b[38;5;241m*\u001b[39mpopenargs, \u001b[38;5;241m*\u001b[39m\u001b[38;5;241m*\u001b[39mkwargs) \u001b[38;5;28;01mas\u001b[39;00m p:\n\u001b[1;32m    346\u001b[0m     \u001b[38;5;28;01mtry\u001b[39;00m:\n\u001b[0;32m--> 347\u001b[0m         \u001b[38;5;28;01mreturn\u001b[39;00m \u001b[43mp\u001b[49m\u001b[38;5;241;43m.\u001b[39;49m\u001b[43mwait\u001b[49m\u001b[43m(\u001b[49m\u001b[43mtimeout\u001b[49m\u001b[38;5;241;43m=\u001b[39;49m\u001b[43mtimeout\u001b[49m\u001b[43m)\u001b[49m\n\u001b[1;32m    348\u001b[0m     \u001b[38;5;28;01mexcept\u001b[39;00m:  \u001b[38;5;66;03m# Including KeyboardInterrupt, wait handled that.\u001b[39;00m\n\u001b[1;32m    349\u001b[0m         p\u001b[38;5;241m.\u001b[39mkill()\n",
      "File \u001b[0;32m/usr/lib/python3.10/subprocess.py:1209\u001b[0m, in \u001b[0;36mPopen.wait\u001b[0;34m(self, timeout)\u001b[0m\n\u001b[1;32m   1207\u001b[0m     endtime \u001b[38;5;241m=\u001b[39m _time() \u001b[38;5;241m+\u001b[39m timeout\n\u001b[1;32m   1208\u001b[0m \u001b[38;5;28;01mtry\u001b[39;00m:\n\u001b[0;32m-> 1209\u001b[0m     \u001b[38;5;28;01mreturn\u001b[39;00m \u001b[38;5;28;43mself\u001b[39;49m\u001b[38;5;241;43m.\u001b[39;49m\u001b[43m_wait\u001b[49m\u001b[43m(\u001b[49m\u001b[43mtimeout\u001b[49m\u001b[38;5;241;43m=\u001b[39;49m\u001b[43mtimeout\u001b[49m\u001b[43m)\u001b[49m\n\u001b[1;32m   1210\u001b[0m \u001b[38;5;28;01mexcept\u001b[39;00m \u001b[38;5;167;01mKeyboardInterrupt\u001b[39;00m:\n\u001b[1;32m   1211\u001b[0m     \u001b[38;5;66;03m# https://bugs.python.org/issue25942\u001b[39;00m\n\u001b[1;32m   1212\u001b[0m     \u001b[38;5;66;03m# The first keyboard interrupt waits briefly for the child to\u001b[39;00m\n\u001b[1;32m   1213\u001b[0m     \u001b[38;5;66;03m# exit under the common assumption that it also received the ^C\u001b[39;00m\n\u001b[1;32m   1214\u001b[0m     \u001b[38;5;66;03m# generated SIGINT and will exit rapidly.\u001b[39;00m\n\u001b[1;32m   1215\u001b[0m     \u001b[38;5;28;01mif\u001b[39;00m timeout \u001b[38;5;129;01mis\u001b[39;00m \u001b[38;5;129;01mnot\u001b[39;00m \u001b[38;5;28;01mNone\u001b[39;00m:\n",
      "File \u001b[0;32m/usr/lib/python3.10/subprocess.py:1959\u001b[0m, in \u001b[0;36mPopen._wait\u001b[0;34m(self, timeout)\u001b[0m\n\u001b[1;32m   1957\u001b[0m \u001b[38;5;28;01mif\u001b[39;00m \u001b[38;5;28mself\u001b[39m\u001b[38;5;241m.\u001b[39mreturncode \u001b[38;5;129;01mis\u001b[39;00m \u001b[38;5;129;01mnot\u001b[39;00m \u001b[38;5;28;01mNone\u001b[39;00m:\n\u001b[1;32m   1958\u001b[0m     \u001b[38;5;28;01mbreak\u001b[39;00m  \u001b[38;5;66;03m# Another thread waited.\u001b[39;00m\n\u001b[0;32m-> 1959\u001b[0m (pid, sts) \u001b[38;5;241m=\u001b[39m \u001b[38;5;28;43mself\u001b[39;49m\u001b[38;5;241;43m.\u001b[39;49m\u001b[43m_try_wait\u001b[49m\u001b[43m(\u001b[49m\u001b[38;5;241;43m0\u001b[39;49m\u001b[43m)\u001b[49m\n\u001b[1;32m   1960\u001b[0m \u001b[38;5;66;03m# Check the pid and loop as waitpid has been known to\u001b[39;00m\n\u001b[1;32m   1961\u001b[0m \u001b[38;5;66;03m# return 0 even without WNOHANG in odd situations.\u001b[39;00m\n\u001b[1;32m   1962\u001b[0m \u001b[38;5;66;03m# http://bugs.python.org/issue14396.\u001b[39;00m\n\u001b[1;32m   1963\u001b[0m \u001b[38;5;28;01mif\u001b[39;00m pid \u001b[38;5;241m==\u001b[39m \u001b[38;5;28mself\u001b[39m\u001b[38;5;241m.\u001b[39mpid:\n",
      "File \u001b[0;32m/usr/lib/python3.10/subprocess.py:1917\u001b[0m, in \u001b[0;36mPopen._try_wait\u001b[0;34m(self, wait_flags)\u001b[0m\n\u001b[1;32m   1915\u001b[0m \u001b[38;5;250m\u001b[39m\u001b[38;5;124;03m\"\"\"All callers to this function MUST hold self._waitpid_lock.\"\"\"\u001b[39;00m\n\u001b[1;32m   1916\u001b[0m \u001b[38;5;28;01mtry\u001b[39;00m:\n\u001b[0;32m-> 1917\u001b[0m     (pid, sts) \u001b[38;5;241m=\u001b[39m \u001b[43mos\u001b[49m\u001b[38;5;241;43m.\u001b[39;49m\u001b[43mwaitpid\u001b[49m\u001b[43m(\u001b[49m\u001b[38;5;28;43mself\u001b[39;49m\u001b[38;5;241;43m.\u001b[39;49m\u001b[43mpid\u001b[49m\u001b[43m,\u001b[49m\u001b[43m \u001b[49m\u001b[43mwait_flags\u001b[49m\u001b[43m)\u001b[49m\n\u001b[1;32m   1918\u001b[0m \u001b[38;5;28;01mexcept\u001b[39;00m \u001b[38;5;167;01mChildProcessError\u001b[39;00m:\n\u001b[1;32m   1919\u001b[0m     \u001b[38;5;66;03m# This happens if SIGCLD is set to be ignored or waiting\u001b[39;00m\n\u001b[1;32m   1920\u001b[0m     \u001b[38;5;66;03m# for child processes has otherwise been disabled for our\u001b[39;00m\n\u001b[1;32m   1921\u001b[0m     \u001b[38;5;66;03m# process.  This child is dead, we can't get the status.\u001b[39;00m\n\u001b[1;32m   1922\u001b[0m     pid \u001b[38;5;241m=\u001b[39m \u001b[38;5;28mself\u001b[39m\u001b[38;5;241m.\u001b[39mpid\n",
      "\u001b[0;31mKeyboardInterrupt\u001b[0m: "
     ]
    }
   ],
   "source": [
    "DockerCompiler().compile(pipeline=pipeline, output_path=\"docker-compose.yml\")\n",
    "DockerRunner().run(\"docker-compose.yml\")"
   ]
  },
  {
   "cell_type": "markdown",
   "metadata": {},
   "source": [
    "If you restart the Explorer, you'll see that you can now select a second pipeline in the left panel and inspect your new dataset."
   ]
  },
  {
   "cell_type": "code",
   "execution_count": null,
   "metadata": {},
   "outputs": [
    {
     "name": "stderr",
     "output_type": "stream",
     "text": [
      "[2023-11-07 17:13:06,386 | root | INFO] Using local base path: ./data_dir\n",
      "[2023-11-07 17:13:06,389 | root | INFO] This directory will be mounted to /artifacts in the container.\n",
      "[2023-11-07 17:13:06,391 | root | WARNING] You have not provided a credentials file. If you wish to access data from a cloud provider, mount the credentials file with the --credentials flag.\n",
      "[2023-11-07 17:13:06,392 | root | INFO] Running image from registry: fndnt/data_explorer with tag: latest on port: 8501\n",
      "[2023-11-07 17:13:06,393 | root | INFO] Access the explorer at http://localhost:8501\n",
      "latest: Pulling from fndnt/data_explorer\n",
      "Digest: sha256:8f317b795798f24f37cb287355d6223c9cca94eb6f12e3535790d1faa79735ec\n",
      "Status: Image is up to date for fndnt/data_explorer:latest\n",
      " Container controlnet-pipeline-caption_images-1  Stopped\n",
      " Container controlnet-pipeline-download_images-1  Stopping\n",
      " Container controlnet-pipeline-download_images-1  Stopped\n",
      " Container controlnet-pipeline-laion_retrieval-1  Stopping\n",
      " Container controlnet-pipeline-laion_retrieval-1  Stopped\n",
      " Container controlnet-pipeline-generate_prompts-1  Stopping\n",
      " Container controlnet-pipeline-generate_prompts-1  Stopped\n",
      "canceled\n"
     ]
    }
   ],
   "source": [
    "run_explorer_app(\n",
    "    base_path=BASE_PATH,\n",
    "    container=\"fndnt/data_explorer\",\n",
    "    tag=\"latest\",\n",
    "    port=8501,\n",
    ")"
   ]
  },
  {
   "cell_type": "markdown",
   "metadata": {},
   "source": [
    "## Scaling up\n",
    "\n",
    "If you're happy with your dataset, it's time to scale up. Check [our documentation](https://fondant.ai/en/latest/pipeline/#compiling-and-running-a-pipeline) for more information about the available runners."
   ]
  }
 ],
 "metadata": {
  "kernelspec": {
   "display_name": "Python 3 (ipykernel)",
   "language": "python",
   "name": "python3"
  },
  "language_info": {
   "codemirror_mode": {
    "name": "ipython",
    "version": 3
   },
   "file_extension": ".py",
   "mimetype": "text/x-python",
   "name": "python",
   "nbconvert_exporter": "python",
   "pygments_lexer": "ipython3",
   "version": "3.10.12"
  }
 },
 "nbformat": 4,
 "nbformat_minor": 4
}
